{
  "nbformat": 4,
  "nbformat_minor": 0,
  "metadata": {
    "colab": {
      "name": "Tugas7.ipynb",
      "provenance": [],
      "authorship_tag": "ABX9TyPt/2+xYB/U0N4cfPt8XBkS",
      "include_colab_link": true
    },
    "kernelspec": {
      "name": "python3",
      "display_name": "Python 3"
    },
    "language_info": {
      "name": "python"
    }
  },
  "cells": [
    {
      "cell_type": "markdown",
      "metadata": {
        "id": "view-in-github",
        "colab_type": "text"
      },
      "source": [
        "<a href=\"https://colab.research.google.com/github/nazariosafariesqi/MachineLearning/blob/main/Tugas7.ipynb\" target=\"_parent\"><img src=\"https://colab.research.google.com/assets/colab-badge.svg\" alt=\"Open In Colab\"/></a>"
      ]
    },
    {
      "cell_type": "code",
      "metadata": {
        "colab": {
          "base_uri": "https://localhost:8080/",
          "height": 414
        },
        "id": "UTj31JTnmcPX",
        "outputId": "6c148a1c-c3f7-4f25-92e6-05fab079c9dc"
      },
      "source": [
        "import pandas as pd\n",
        "import numpy as np\n",
        "from scipy.stats import chi2_contingency \n",
        "\n",
        "%matplotlib inline \n",
        "df = pd.DataFrame( {'WAKTU' : ['PENDEK', 'PENDEK', 'PENDEK', 'PENDEK', 'PENDEK', 'PANJANG','PANJANG','PENDEK','PANJANG','PENDEK','PANJANG','PANJANG'] ,\n",
        " 'PAKET' : ['BESAR', 'KECIL', 'KECIL', 'KECIL', 'KECIL', 'BESAR','KECIL','BESAR','KECIL','KECIL','BESAR','KECIL'] ,\n",
        " 'FREKUENSI' : ['SEDANG','TINGGI','SEDANG','TINGGI','SEDANG','SEDANG','TINGGI','SEDANG','RENDAH','TINGGI','TINGGI','RENDAH'] ,\n",
        " 'PRIORITAS' : ['RENDAH','RENDAH','TINGGI','RENDAH','TINGGI','RENDAH','TINGGI','RENDAH','TINGGI','TINGGI','TINGGI','TINGGI'] ,\n",
        " 'GANGGUAN' : ['GANGGUAN','NORMAL','GANGGUAN','NORMAL','NORMAL','NORMAL','GANGGUAN','NORMAL','NORMAL','NORMAL','NORMAL','NORMAL'] })\n",
        "df.loc[:11]\n"
      ],
      "execution_count": 44,
      "outputs": [
        {
          "output_type": "execute_result",
          "data": {
            "text/html": [
              "<div>\n",
              "<style scoped>\n",
              "    .dataframe tbody tr th:only-of-type {\n",
              "        vertical-align: middle;\n",
              "    }\n",
              "\n",
              "    .dataframe tbody tr th {\n",
              "        vertical-align: top;\n",
              "    }\n",
              "\n",
              "    .dataframe thead th {\n",
              "        text-align: right;\n",
              "    }\n",
              "</style>\n",
              "<table border=\"1\" class=\"dataframe\">\n",
              "  <thead>\n",
              "    <tr style=\"text-align: right;\">\n",
              "      <th></th>\n",
              "      <th>WAKTU</th>\n",
              "      <th>PAKET</th>\n",
              "      <th>FREKUENSI</th>\n",
              "      <th>PRIORITAS</th>\n",
              "      <th>GANGGUAN</th>\n",
              "    </tr>\n",
              "  </thead>\n",
              "  <tbody>\n",
              "    <tr>\n",
              "      <th>0</th>\n",
              "      <td>PENDEK</td>\n",
              "      <td>BESAR</td>\n",
              "      <td>SEDANG</td>\n",
              "      <td>RENDAH</td>\n",
              "      <td>GANGGUAN</td>\n",
              "    </tr>\n",
              "    <tr>\n",
              "      <th>1</th>\n",
              "      <td>PENDEK</td>\n",
              "      <td>KECIL</td>\n",
              "      <td>TINGGI</td>\n",
              "      <td>RENDAH</td>\n",
              "      <td>NORMAL</td>\n",
              "    </tr>\n",
              "    <tr>\n",
              "      <th>2</th>\n",
              "      <td>PENDEK</td>\n",
              "      <td>KECIL</td>\n",
              "      <td>SEDANG</td>\n",
              "      <td>TINGGI</td>\n",
              "      <td>GANGGUAN</td>\n",
              "    </tr>\n",
              "    <tr>\n",
              "      <th>3</th>\n",
              "      <td>PENDEK</td>\n",
              "      <td>KECIL</td>\n",
              "      <td>TINGGI</td>\n",
              "      <td>RENDAH</td>\n",
              "      <td>NORMAL</td>\n",
              "    </tr>\n",
              "    <tr>\n",
              "      <th>4</th>\n",
              "      <td>PENDEK</td>\n",
              "      <td>KECIL</td>\n",
              "      <td>SEDANG</td>\n",
              "      <td>TINGGI</td>\n",
              "      <td>NORMAL</td>\n",
              "    </tr>\n",
              "    <tr>\n",
              "      <th>5</th>\n",
              "      <td>PANJANG</td>\n",
              "      <td>BESAR</td>\n",
              "      <td>SEDANG</td>\n",
              "      <td>RENDAH</td>\n",
              "      <td>NORMAL</td>\n",
              "    </tr>\n",
              "    <tr>\n",
              "      <th>6</th>\n",
              "      <td>PANJANG</td>\n",
              "      <td>KECIL</td>\n",
              "      <td>TINGGI</td>\n",
              "      <td>TINGGI</td>\n",
              "      <td>GANGGUAN</td>\n",
              "    </tr>\n",
              "    <tr>\n",
              "      <th>7</th>\n",
              "      <td>PENDEK</td>\n",
              "      <td>BESAR</td>\n",
              "      <td>SEDANG</td>\n",
              "      <td>RENDAH</td>\n",
              "      <td>NORMAL</td>\n",
              "    </tr>\n",
              "    <tr>\n",
              "      <th>8</th>\n",
              "      <td>PANJANG</td>\n",
              "      <td>KECIL</td>\n",
              "      <td>RENDAH</td>\n",
              "      <td>TINGGI</td>\n",
              "      <td>NORMAL</td>\n",
              "    </tr>\n",
              "    <tr>\n",
              "      <th>9</th>\n",
              "      <td>PENDEK</td>\n",
              "      <td>KECIL</td>\n",
              "      <td>TINGGI</td>\n",
              "      <td>TINGGI</td>\n",
              "      <td>NORMAL</td>\n",
              "    </tr>\n",
              "    <tr>\n",
              "      <th>10</th>\n",
              "      <td>PANJANG</td>\n",
              "      <td>BESAR</td>\n",
              "      <td>TINGGI</td>\n",
              "      <td>TINGGI</td>\n",
              "      <td>NORMAL</td>\n",
              "    </tr>\n",
              "    <tr>\n",
              "      <th>11</th>\n",
              "      <td>PANJANG</td>\n",
              "      <td>KECIL</td>\n",
              "      <td>RENDAH</td>\n",
              "      <td>TINGGI</td>\n",
              "      <td>NORMAL</td>\n",
              "    </tr>\n",
              "  </tbody>\n",
              "</table>\n",
              "</div>"
            ],
            "text/plain": [
              "      WAKTU  PAKET FREKUENSI PRIORITAS  GANGGUAN\n",
              "0    PENDEK  BESAR    SEDANG    RENDAH  GANGGUAN\n",
              "1    PENDEK  KECIL    TINGGI    RENDAH    NORMAL\n",
              "2    PENDEK  KECIL    SEDANG    TINGGI  GANGGUAN\n",
              "3    PENDEK  KECIL    TINGGI    RENDAH    NORMAL\n",
              "4    PENDEK  KECIL    SEDANG    TINGGI    NORMAL\n",
              "5   PANJANG  BESAR    SEDANG    RENDAH    NORMAL\n",
              "6   PANJANG  KECIL    TINGGI    TINGGI  GANGGUAN\n",
              "7    PENDEK  BESAR    SEDANG    RENDAH    NORMAL\n",
              "8   PANJANG  KECIL    RENDAH    TINGGI    NORMAL\n",
              "9    PENDEK  KECIL    TINGGI    TINGGI    NORMAL\n",
              "10  PANJANG  BESAR    TINGGI    TINGGI    NORMAL\n",
              "11  PANJANG  KECIL    RENDAH    TINGGI    NORMAL"
            ]
          },
          "metadata": {
            "tags": []
          },
          "execution_count": 44
        }
      ]
    },
    {
      "cell_type": "code",
      "metadata": {
        "id": "pXdk6x0ZHbPK"
      },
      "source": [
        ""
      ],
      "execution_count": null,
      "outputs": []
    },
    {
      "cell_type": "code",
      "metadata": {
        "colab": {
          "base_uri": "https://localhost:8080/"
        },
        "id": "wyNcZyde56AR",
        "outputId": "558950f4-9a67-4c4d-a4b3-5c06dadcae96"
      },
      "source": [
        "# Chi-square test of independence. \n",
        "c, p, dof, expected = chi2_contingency(contigency) \n",
        "# Print the p-value\n",
        "print(p)"
      ],
      "execution_count": 43,
      "outputs": [
        {
          "output_type": "stream",
          "text": [
            "0.8359944985248411\n"
          ],
          "name": "stdout"
        }
      ]
    }
  ]
}